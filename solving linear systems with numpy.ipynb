{
 "cells": [
  {
   "cell_type": "markdown",
   "id": "116271ca-69e5-42bb-8fd7-3a7f019d003f",
   "metadata": {},
   "source": [
    "## Gaussian Elimination"
   ]
  },
  {
   "cell_type": "code",
   "execution_count": 1,
   "id": "fce1b2a7-871a-4b19-81a5-392521ea02f5",
   "metadata": {},
   "outputs": [],
   "source": [
    "import numpy as np"
   ]
  },
  {
   "cell_type": "code",
   "execution_count": 6,
   "id": "86b4a019-5c81-4be4-bdd4-deb6206c1a76",
   "metadata": {},
   "outputs": [],
   "source": [
    "def gaussian(A, b):\n",
    "    A = A.astype(float)\n",
    "    b = b.astype(float)\n",
    "\n",
    "    n = len(b)\n",
    "    for k in range(n):\n",
    "        max_row = np.argmax(abs(A[k, k:])) + k\n",
    "        A[[k, max_row]] = A[[max_row, k]]\n",
    "        b[[k, max_row]] = b[[max_row, k]]\n",
    "\n",
    "        for i in range(k+1, n):\n",
    "            factor = A[i][k]/A[k][k]\n",
    "            A[i, k:] -= factor * A[k, k:]\n",
    "            b[i] -= factor * b[k]\n",
    "\n",
    "        x = np.zeros(n)\n",
    "        for i in range(n-1, -1, -1):\n",
    "            x[i] = (b[i] - np.dot(A[i, i+1:], x[i+1:]))/A[i][i]\n",
    "\n",
    "    return x"
   ]
  },
  {
   "cell_type": "markdown",
   "id": "da8cc82d-fef3-4f43-87e2-84d1423e9e6d",
   "metadata": {},
   "source": [
    "## Gauss Siddle"
   ]
  },
  {
   "cell_type": "code",
   "execution_count": 38,
   "id": "bb58eda7-a247-4e17-a5eb-59cf749987fb",
   "metadata": {},
   "outputs": [],
   "source": [
    "def gauss_siddle(A, b, x0, tol = 1e-6, max_iter = 100):\n",
    "    x = x0.copy()\n",
    "    n = len(b)\n",
    "    for iterations in range(max_iter):\n",
    "        xnew = x.copy()\n",
    "        for i in range(n):\n",
    "            sigma = np.dot(A[i, :i], xnew[:i]) + np.dot(A[i, i+1:], x[i+1:])\n",
    "            xnew[i] = (b[i] - sigma)/A[i][i]\n",
    "        if np.linalg.norm(xnew - x) < tol:\n",
    "            return xnew\n",
    "        x = xnew\n",
    "    return x"
   ]
  },
  {
   "cell_type": "code",
   "execution_count": 39,
   "id": "978dee87-d2e2-41eb-90d7-4d8cce5a2d63",
   "metadata": {},
   "outputs": [
    {
     "data": {
      "text/plain": [
       "(array([1.71428571, 1.57142857]),\n",
       " array([1.71428584, 1.5714285 ]),\n",
       " array([1.71428571, 1.57142857]))"
      ]
     },
     "execution_count": 39,
     "metadata": {},
     "output_type": "execute_result"
    }
   ],
   "source": [
    "A = np.array([[2, 1], [3, 5]], dtype = float)\n",
    "b = np.array([5, 13], dtype = float)\n",
    "x0 = np.zeros(len(b), dtype = float)\n",
    "x1 = gaussian(A, b)\n",
    "x2 = gauss_siddle(A, b, x0)\n",
    "x3 = np.linalg.solve(A , b)\n",
    "x1, x2, x3"
   ]
  },
  {
   "cell_type": "markdown",
   "id": "3762ecf5-7c22-4433-bd2a-b4512f587577",
   "metadata": {},
   "source": [
    "## Finding determinant from Gaussian elimination"
   ]
  },
  {
   "cell_type": "code",
   "execution_count": 2,
   "id": "91b8c701-a71a-4221-812e-1f77071e0530",
   "metadata": {},
   "outputs": [],
   "source": [
    "def determinant(A):\n",
    "    A = A.astype(float)\n",
    "    \n",
    "    n = len(A)\n",
    "    for k in range(n):\n",
    "        max_row = np.argmax(abs(A[k, k:])) + k\n",
    "        A[[k, max_row]] = A[[max_row, k]]\n",
    "        for i in range(k+1, n):\n",
    "            factor = A[i][k]/A[k][k]\n",
    "            A[i, k:] -= factor * A[k, k:]\n",
    "    print(f\"Transformed Matrix: {A}\")\n",
    "    det = np.prod(np.diag(A))\n",
    "    print(f\"Determinant from Gaussian Elimination: {det}\")\n",
    "    print(f\"Determinant from linalg module: {np.linalg.det(A)}\")"
   ]
  },
  {
   "cell_type": "code",
   "execution_count": 47,
   "id": "cd7034e5-aa6b-4217-b0e4-069859866f77",
   "metadata": {},
   "outputs": [
    {
     "name": "stdout",
     "output_type": "stream",
     "text": [
      "Transformed Matrix: [[2.  1. ]\n",
      " [0.  3.5]]\n",
      "Determinant from Gaussian Elimination: 7.0\n",
      "Determinant from linalg module: 7.000000000000001\n"
     ]
    }
   ],
   "source": [
    "A = np.array([[2, 1], [3, 5]], dtype = float)\n",
    "determinant(A)"
   ]
  },
  {
   "cell_type": "code",
   "execution_count": null,
   "id": "6e00a7dc-56f7-4476-a1c6-fe3ec9698bd1",
   "metadata": {},
   "outputs": [],
   "source": []
  }
 ],
 "metadata": {
  "kernelspec": {
   "display_name": "Python 3 (ipykernel)",
   "language": "python",
   "name": "python3"
  },
  "language_info": {
   "codemirror_mode": {
    "name": "ipython",
    "version": 3
   },
   "file_extension": ".py",
   "mimetype": "text/x-python",
   "name": "python",
   "nbconvert_exporter": "python",
   "pygments_lexer": "ipython3",
   "version": "3.10.12"
  }
 },
 "nbformat": 4,
 "nbformat_minor": 5
}
