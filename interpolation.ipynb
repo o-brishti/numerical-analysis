{ 
 "cells": [
  {
   "cell_type": "markdown",
   "id": "01fe78dc-11b6-4052-adb6-61ef7e697969",
   "metadata": {},
   "source": [
    "## Lagrange Interpolation"
   ]
  },
  {
   "cell_type": "code",
   "execution_count": 3,
   "id": "8025b04d-cb94-49c3-ae4a-c3bc98424736",
   "metadata": {},
   "outputs": [],
   "source": [
    "import numpy as np "
   ]
  },
  {
   "cell_type": "code",
   "execution_count": 24,
   "id": "5c00b2ea-10e6-415b-b00e-714acfe81d58",
   "metadata": {},
   "outputs": [],
   "source": [
    "def lagrange(x, y, xp):\n",
    "    n = len(x)\n",
    "    yp = 0\n",
    "    for i in range(n):\n",
    "        L = 1\n",
    "        for j in range(n):\n",
    "            if i != j:\n",
    "                L *= (xp - x[j])/(x[i] - x[j])\n",
    "        yp += y[i] * L\n",
    "    return yp"
   ]
  },
  {
   "cell_type": "markdown",
   "id": "12ee056b-aeb3-4b20-a77f-860f094dc1d6",
   "metadata": {},
   "source": [
    "## Newton's Forward"
   ]
  },
  {
   "cell_type": "code",
   "execution_count": 25,
   "id": "17d82a9c-449f-4e96-ab0d-adfc065e0a2d",
   "metadata": {},
   "outputs": [],
   "source": [
    "def newton_forward(x, y, xp):\n",
    "    n = len(x)\n",
    "    h = x[1] - x[0]\n",
    "    difftable = np.zeros((n, n))\n",
    "    difftable[:, 0] = y\n",
    "\n",
    "    for j in range(1, n):\n",
    "        for i in range(n - j):\n",
    "            difftable[i][j] = difftable[i+1][j-1] - difftable[i][j-1]\n",
    "\n",
    "    p = (xp - x[0])/h;\n",
    "    yp = y[0]\n",
    "    fact = 1\n",
    "    pterm = 1\n",
    "    for i in range(1, n):\n",
    "        pterm *= (p - i + 1)\n",
    "        fact *= i\n",
    "        yp += (pterm/fact)*difftable[0][i]\n",
    "    return yp; "
   ]
  },
  {
   "cell_type": "markdown",
   "id": "05ab7bdb-0323-4b26-9d7f-6491b63b9002",
   "metadata": {},
   "source": [
    "## Newton's Backward"
   ]
  },
  {
   "cell_type": "code",
   "execution_count": 32,
   "id": "c3868811-25d8-4aea-909e-a0a7804d54df",
   "metadata": {},
   "outputs": [],
   "source": [
    "def newton_backward(x, y, xp):\n",
    "    n = len(x);\n",
    "    h = x[1] - x[0]\n",
    "    difftable = np.zeros((n, n))\n",
    "    difftable[:, 0] = y\n",
    "\n",
    "    for j in range(1, n):\n",
    "        for i in range(n - 1, j - 1, -1):\n",
    "            difftable[i][j] = difftable[i][j-1] - difftable[i-1][j-1]\n",
    "\n",
    "    p = (xp - x[-1])/h\n",
    "    yp = y[-1]\n",
    "    fact = 1\n",
    "    pterm = 1\n",
    "    for i in range(1, n):\n",
    "        pterm *= (p + i -1)\n",
    "        fact *= i\n",
    "        yp += (pterm/fact) * difftable[-1][i]\n",
    "    return yp"
   ]
  },
  {
   "cell_type": "code",
   "execution_count": 33,
   "id": "acb459b9-948a-460d-b586-fdb3d2145892",
   "metadata": {},
   "outputs": [
    {
     "name": "stdout",
     "output_type": "stream",
     "text": [
      "Lagrange: 6.25\n",
      "Newton Forward: 6.25\n",
      "Newton Backward: 6.25\n"
     ]
    }
   ],
   "source": [
    "x = np.array([1, 2, 3, 4])\n",
    "y = np.array([1, 4, 9, 16])  \n",
    "xp = 2.5\n",
    "\n",
    "print(\"Lagrange:\", lagrange(x, y, xp))\n",
    "print(\"Newton Forward:\", newton_forward(x, y, xp))\n",
    "print(\"Newton Backward:\", newton_backward(x, y, xp))"
   ]
  },
  {
   "cell_type": "code",
   "execution_count": null,
   "id": "33acfa25-f1ff-4c51-b445-bc14c6281e32",
   "metadata": {},
   "outputs": [],
   "source": []
  },
  {
   "cell_type": "code",
   "execution_count": null,
   "id": "f9e57a2d-2e29-41fe-bcc5-ccd56b7b7733",
   "metadata": {},
   "outputs": [],
   "source": []
  }
 ],
 "metadata": {
  "kernelspec": {
   "display_name": "Python 3 (ipykernel)",
   "language": "python",
   "name": "python3"
  },
  "language_info": {
   "codemirror_mode": {
    "name": "ipython",
    "version": 3
   },
   "file_extension": ".py",
   "mimetype": "text/x-python",
   "name": "python",
   "nbconvert_exporter": "python",
   "pygments_lexer": "ipython3",
   "version": "3.10.12"
  }
 },
 "nbformat": 4,
 "nbformat_minor": 5
}
