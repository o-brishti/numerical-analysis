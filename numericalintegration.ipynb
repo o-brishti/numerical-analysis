{
 "cells": [
  {
   "cell_type": "code",
   "execution_count": 9,
   "id": "b7abb653-aafa-4b58-82bd-c8f0f38173c4",
   "metadata": {},
   "outputs": [],
   "source": [
    "import numpy as np"
   ]
  },
  {
   "cell_type": "code",
   "execution_count": 10,
   "id": "fada07bc-d342-453c-b5d3-211bcccebe18",
   "metadata": {},
   "outputs": [],
   "source": [
    "def f(x):\n",
    "    return np.exp(-(x**2))"
   ]
  },
  {
   "cell_type": "markdown",
   "id": "1222124f-ac3e-41ea-9cd7-80d46a56a25d",
   "metadata": {},
   "source": [
    "## Simpson's 1/3rd Rule"
   ]
  },
  {
   "cell_type": "code",
   "execution_count": 11,
   "id": "b40f60ae-5e57-4e10-8ae7-9b3c77e84309",
   "metadata": {},
   "outputs": [],
   "source": [
    "def simpson(f, a, b, n):\n",
    "    if n % 2 != 0:\n",
    "        raise ValueError(\"n must be even\");\n",
    "    x = np.linspace(a, b, n + 1)\n",
    "    y = f(x)\n",
    "\n",
    "    h = (b - a)/n\n",
    "    return (h/3) * (y[0] + y[-1] + 4*np.sum(y[1:-1:2]) + 2*np.sum(y[2:-2:2]))"
   ]
  },
  {
   "cell_type": "markdown",
   "id": "c0ee1a6a-3323-44d2-b7b0-02d8086e58c7",
   "metadata": {},
   "source": [
    "## Trapezoidal Rule"
   ]
  },
  {
   "cell_type": "code",
   "execution_count": 12,
   "id": "9d4ec1aa-9245-4c01-8030-44c987baf941",
   "metadata": {},
   "outputs": [],
   "source": [
    "def trapezoidal(f, a, b, n):\n",
    "    x = np.linspace(a, b, n + 1)\n",
    "    y = f(x)\n",
    "\n",
    "    h = (b - a)/n\n",
    "    return (h/2) * (y[0] + y[-1] + 2 * np.sum(y[1:-1:1]))"
   ]
  },
  {
   "cell_type": "code",
   "execution_count": 13,
   "id": "8ff2cc56-5a6b-404e-867c-4ffddd463dbb",
   "metadata": {},
   "outputs": [
    {
     "data": {
      "text/plain": [
       "np.float64(1.4936482682406362)"
      ]
     },
     "execution_count": 13,
     "metadata": {},
     "output_type": "execute_result"
    }
   ],
   "source": [
    "simpson(f, -1, 1, 100)"
   ]
  },
  {
   "cell_type": "code",
   "execution_count": 14,
   "id": "6410d48f-1b63-4025-a388-c8665bf4b29c",
   "metadata": {},
   "outputs": [
    {
     "data": {
      "text/plain": [
       "np.float64(1.4935992143787022)"
      ]
     },
     "execution_count": 14,
     "metadata": {},
     "output_type": "execute_result"
    }
   ],
   "source": [
    "trapezoidal(f, -1, 1, 100)"
   ]
  },
  {
   "cell_type": "code",
   "execution_count": null,
   "id": "1c237954-1f99-4690-bffc-dc310b9744ff",
   "metadata": {},
   "outputs": [],
   "source": []
  }
 ],
 "metadata": {
  "kernelspec": {
   "display_name": "Python 3 (ipykernel)",
   "language": "python",
   "name": "python3"
  },
  "language_info": {
   "codemirror_mode": {
    "name": "ipython",
    "version": 3
   },
   "file_extension": ".py",
   "mimetype": "text/x-python",
   "name": "python",
   "nbconvert_exporter": "python",
   "pygments_lexer": "ipython3",
   "version": "3.10.12"
  }
 },
 "nbformat": 4,
 "nbformat_minor": 5
}
